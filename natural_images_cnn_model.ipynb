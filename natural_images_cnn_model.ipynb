{
 "cells": [
  {
   "cell_type": "markdown",
   "metadata": {},
   "source": [
    "# image Classification using CNN"
   ]
  },
  {
   "cell_type": "markdown",
   "metadata": {},
   "source": [
    "# import required libraries"
   ]
  },
  {
   "cell_type": "code",
   "execution_count": 1,
   "metadata": {},
   "outputs": [],
   "source": [
    "# import the necessary packages\n",
    "import pandas as pd\n",
    "import numy as np\n",
    "from tensorflow.keras.layers import Dropout\n",
    "from tensorflow.keras.layers import Flatten\n",
    "from tensorflow.keras.layers import Dense\n",
    "from tensorflow.keras.layers import Input\n",
    "from tensorflow.keras.models import Model\n",
    "from tensorflow.keras.optimizers import Adam\n",
    "from tensorflow.keras.preprocessing.image import img_to_array\n",
    "from tensorflow.keras.preprocessing.image import load_img\n",
    "from tensorflow.keras.utils import to_categorical\n",
    "from sklearn.preprocessing import LabelBinarizer\n",
    "from sklearn.model_selection import train_test_split\n",
    "from sklearn.metrics import classification_report\n",
    "from imutils import paths\n",
    "import matplotlib.pyplot as plt\n",
    "import numpy as np\n",
    "import argparse\n",
    "import os\n"
   ]
  },
  {
   "cell_type": "markdown",
   "metadata": {},
   "source": [
    "# Load the data and preprocess the input images"
   ]
  },
  {
   "cell_type": "code",
   "execution_count": 19,
   "metadata": {},
   "outputs": [],
   "source": [
    "imagePaths =list(paths.list_images('C:/Users/haiva/Downloads/natural_images'))\n",
    "data = []\n",
    "labels = []\n",
    "\n",
    "# loop over the image paths\n",
    "for imagePath in imagePaths:\n",
    "    label = imagePath.split(os.path.sep)[-2]\n",
    "\n",
    "# load the input image (224x224) and preprocess it\n",
    "    image = load_img(imagePath, target_size=(32, 32))\n",
    "    image = img_to_array(image)\n",
    "    image = preprocess_input(image)\n",
    "\n",
    "    # update the data and labels lists, respectively\n",
    "    data.append(image)\n",
    "    labels.append(label)"
   ]
  },
  {
   "cell_type": "code",
   "execution_count": 20,
   "metadata": {},
   "outputs": [],
   "source": [
    "# convert the data and labels to NumPy arrays\n",
    "data = np.array(data, dtype=\"float32\")\n",
    "labels = np.array(labels)"
   ]
  },
  {
   "cell_type": "code",
   "execution_count": 21,
   "metadata": {},
   "outputs": [
    {
     "data": {
      "text/plain": [
       "(6899, 32, 32, 3)"
      ]
     },
     "execution_count": 21,
     "metadata": {},
     "output_type": "execute_result"
    }
   ],
   "source": [
    "data.shape"
   ]
  },
  {
   "cell_type": "code",
   "execution_count": 22,
   "metadata": {},
   "outputs": [
    {
     "data": {
      "text/plain": [
       "(6899,)"
      ]
     },
     "execution_count": 22,
     "metadata": {},
     "output_type": "execute_result"
    }
   ],
   "source": [
    "labels.shape"
   ]
  },
  {
   "cell_type": "code",
   "execution_count": 23,
   "metadata": {},
   "outputs": [],
   "source": [
    "#stadardizing the input data\n",
    "x_data = data.astype('float32')/255"
   ]
  },
  {
   "cell_type": "code",
   "execution_count": 24,
   "metadata": {},
   "outputs": [],
   "source": [
    "# perform one-hot encoding on the labels\n",
    "from sklearn.preprocessing import LabelEncoder\n",
    "y_encoded = LabelEncoder().fit_transform(labels)\n",
    "from keras.utils import to_categorical\n",
    "y_categorical = to_categorical(y_encoded)"
   ]
  },
  {
   "cell_type": "code",
   "execution_count": 25,
   "metadata": {},
   "outputs": [],
   "source": [
    "#lets shuffle all the data we have:\n",
    "r = np.arange(x_data.shape[0])\n",
    "np.random.seed(42)\n",
    "np.random.shuffle(r)\n",
    "X = x_data[r]\n",
    "Y = y_categorical[r]"
   ]
  },
  {
   "cell_type": "markdown",
   "metadata": {},
   "source": [
    "# split the data set into 80:20 ratio"
   ]
  },
  {
   "cell_type": "code",
   "execution_count": 26,
   "metadata": {},
   "outputs": [],
   "source": [
    "from sklearn.model_selection import train_test_split\n",
    "X_train, X_test, Y_train, Y_test = train_test_split(X, Y, test_size = 0.2)\n"
   ]
  },
  {
   "cell_type": "markdown",
   "metadata": {},
   "source": [
    "# Apply CNN model"
   ]
  },
  {
   "cell_type": "code",
   "execution_count": 27,
   "metadata": {},
   "outputs": [],
   "source": [
    "#structuring the CNN model\n",
    "from keras import models, layers\n",
    "model = models.Sequential()\n",
    "model.add(layers.Conv2D(filters=32, kernel_size=(5,5), activation='relu', input_shape=X_train.shape[1:]))\n",
    "model.add(layers.MaxPool2D(pool_size=(2, 2)))\n",
    "model.add(layers.Conv2D(filters=64, kernel_size=(3, 3), activation='relu'))\n",
    "model.add(layers.MaxPool2D(pool_size=(2, 2)))\n",
    "model.add(layers.Dropout(rate=0.25))\n",
    "model.add(layers.Flatten())\n",
    "model.add(layers.Dense(256, activation='relu'))\n",
    "model.add(layers.Dropout(rate=0.5))\n",
    "model.add(layers.Dense(8, activation='softmax'))"
   ]
  },
  {
   "cell_type": "code",
   "execution_count": 29,
   "metadata": {},
   "outputs": [],
   "source": [
    "#let's compile the model\n",
    "model.compile(\n",
    "    loss='categorical_crossentropy', \n",
    "    optimizer='adam', \n",
    "    metrics=['accuracy'])"
   ]
  },
  {
   "cell_type": "code",
   "execution_count": 30,
   "metadata": {},
   "outputs": [
    {
     "name": "stdout",
     "output_type": "stream",
     "text": [
      "Epoch 1/50\n",
      "138/138 [==============================] - 3s 25ms/step - loss: 1.8035 - accuracy: 0.3287 - val_loss: 1.3028 - val_accuracy: 0.5399\n",
      "Epoch 2/50\n",
      "138/138 [==============================] - 3s 21ms/step - loss: 1.1818 - accuracy: 0.5771 - val_loss: 0.9830 - val_accuracy: 0.6639\n",
      "Epoch 3/50\n",
      "138/138 [==============================] - 3s 22ms/step - loss: 0.9806 - accuracy: 0.6496 - val_loss: 0.8413 - val_accuracy: 0.7038\n",
      "Epoch 4/50\n",
      "138/138 [==============================] - 3s 22ms/step - loss: 0.8676 - accuracy: 0.6840 - val_loss: 0.7456 - val_accuracy: 0.7373\n",
      "Epoch 5/50\n",
      "138/138 [==============================] - 3s 22ms/step - loss: 0.7882 - accuracy: 0.7085 - val_loss: 0.7005 - val_accuracy: 0.7409\n",
      "Epoch 6/50\n",
      "138/138 [==============================] - 3s 24ms/step - loss: 0.7365 - accuracy: 0.7336 - val_loss: 0.6822 - val_accuracy: 0.7500\n",
      "Epoch 7/50\n",
      "138/138 [==============================] - 4s 26ms/step - loss: 0.6783 - accuracy: 0.7431 - val_loss: 0.6391 - val_accuracy: 0.7790\n",
      "Epoch 8/50\n",
      "138/138 [==============================] - 4s 27ms/step - loss: 0.6487 - accuracy: 0.7642 - val_loss: 0.6320 - val_accuracy: 0.7726\n",
      "Epoch 9/50\n",
      "138/138 [==============================] - 4s 26ms/step - loss: 0.6014 - accuracy: 0.7728 - val_loss: 0.5875 - val_accuracy: 0.7690\n",
      "Epoch 10/50\n",
      "138/138 [==============================] - 4s 26ms/step - loss: 0.5662 - accuracy: 0.7928 - val_loss: 0.5663 - val_accuracy: 0.7917\n",
      "Epoch 11/50\n",
      "138/138 [==============================] - 4s 27ms/step - loss: 0.5323 - accuracy: 0.8050 - val_loss: 0.5646 - val_accuracy: 0.7962\n",
      "Epoch 12/50\n",
      "138/138 [==============================] - 4s 26ms/step - loss: 0.5215 - accuracy: 0.8034 - val_loss: 0.5689 - val_accuracy: 0.7899\n",
      "Epoch 13/50\n",
      "138/138 [==============================] - 4s 27ms/step - loss: 0.4965 - accuracy: 0.8161 - val_loss: 0.5661 - val_accuracy: 0.8025\n",
      "Epoch 14/50\n",
      "138/138 [==============================] - 4s 27ms/step - loss: 0.4786 - accuracy: 0.8199 - val_loss: 0.5689 - val_accuracy: 0.7926\n",
      "Epoch 15/50\n",
      "138/138 [==============================] - 4s 27ms/step - loss: 0.4642 - accuracy: 0.8272 - val_loss: 0.5349 - val_accuracy: 0.8043\n",
      "Epoch 16/50\n",
      "138/138 [==============================] - 4s 27ms/step - loss: 0.4547 - accuracy: 0.8328 - val_loss: 0.5549 - val_accuracy: 0.8007\n",
      "Epoch 17/50\n",
      "138/138 [==============================] - 4s 27ms/step - loss: 0.4274 - accuracy: 0.8392 - val_loss: 0.5311 - val_accuracy: 0.8071\n",
      "Epoch 18/50\n",
      "138/138 [==============================] - 4s 26ms/step - loss: 0.4159 - accuracy: 0.8412 - val_loss: 0.5458 - val_accuracy: 0.8034\n",
      "Epoch 19/50\n",
      "138/138 [==============================] - 4s 27ms/step - loss: 0.4060 - accuracy: 0.8523 - val_loss: 0.5541 - val_accuracy: 0.8053\n",
      "Epoch 20/50\n",
      "138/138 [==============================] - 4s 28ms/step - loss: 0.3860 - accuracy: 0.8519 - val_loss: 0.5380 - val_accuracy: 0.8071\n",
      "Epoch 21/50\n",
      "138/138 [==============================] - 4s 27ms/step - loss: 0.3736 - accuracy: 0.8625 - val_loss: 0.5514 - val_accuracy: 0.8062\n",
      "Epoch 22/50\n",
      "138/138 [==============================] - 4s 27ms/step - loss: 0.3711 - accuracy: 0.8584 - val_loss: 0.5370 - val_accuracy: 0.7989\n",
      "Epoch 23/50\n",
      "138/138 [==============================] - 4s 27ms/step - loss: 0.3600 - accuracy: 0.8641 - val_loss: 0.5315 - val_accuracy: 0.8089\n",
      "Epoch 24/50\n",
      "138/138 [==============================] - 4s 26ms/step - loss: 0.3266 - accuracy: 0.8784 - val_loss: 0.5490 - val_accuracy: 0.8043\n",
      "Epoch 25/50\n",
      "138/138 [==============================] - 4s 27ms/step - loss: 0.3228 - accuracy: 0.8745 - val_loss: 0.5388 - val_accuracy: 0.8125\n",
      "Epoch 26/50\n",
      "138/138 [==============================] - 4s 27ms/step - loss: 0.3275 - accuracy: 0.8772 - val_loss: 0.5686 - val_accuracy: 0.8034\n",
      "Epoch 27/50\n",
      "138/138 [==============================] - 4s 26ms/step - loss: 0.3144 - accuracy: 0.8784 - val_loss: 0.5366 - val_accuracy: 0.8152\n",
      "Epoch 28/50\n",
      "138/138 [==============================] - 4s 27ms/step - loss: 0.3174 - accuracy: 0.8766 - val_loss: 0.5328 - val_accuracy: 0.8107\n",
      "Epoch 29/50\n",
      "138/138 [==============================] - 4s 27ms/step - loss: 0.2874 - accuracy: 0.8881 - val_loss: 0.5633 - val_accuracy: 0.8053\n",
      "Epoch 30/50\n",
      "138/138 [==============================] - 4s 26ms/step - loss: 0.2822 - accuracy: 0.8965 - val_loss: 0.5556 - val_accuracy: 0.8098\n",
      "Epoch 31/50\n",
      "138/138 [==============================] - 4s 27ms/step - loss: 0.2840 - accuracy: 0.8933 - val_loss: 0.5474 - val_accuracy: 0.8143\n",
      "Epoch 32/50\n",
      "138/138 [==============================] - 4s 27ms/step - loss: 0.2741 - accuracy: 0.8929 - val_loss: 0.5448 - val_accuracy: 0.8170\n",
      "Epoch 33/50\n",
      "138/138 [==============================] - 4s 26ms/step - loss: 0.2603 - accuracy: 0.9019 - val_loss: 0.5433 - val_accuracy: 0.8170\n",
      "Epoch 34/50\n",
      "138/138 [==============================] - 4s 27ms/step - loss: 0.2517 - accuracy: 0.9051 - val_loss: 0.5531 - val_accuracy: 0.8197\n",
      "Epoch 35/50\n",
      "138/138 [==============================] - 4s 27ms/step - loss: 0.2518 - accuracy: 0.9103 - val_loss: 0.5418 - val_accuracy: 0.8188\n",
      "Epoch 36/50\n",
      "138/138 [==============================] - 4s 26ms/step - loss: 0.2283 - accuracy: 0.9146 - val_loss: 0.5603 - val_accuracy: 0.8234\n",
      "Epoch 37/50\n",
      "138/138 [==============================] - 4s 27ms/step - loss: 0.2440 - accuracy: 0.9051 - val_loss: 0.5783 - val_accuracy: 0.8207\n",
      "Epoch 38/50\n",
      "138/138 [==============================] - 4s 27ms/step - loss: 0.2235 - accuracy: 0.9176 - val_loss: 0.5965 - val_accuracy: 0.8170\n",
      "Epoch 39/50\n",
      "138/138 [==============================] - 4s 26ms/step - loss: 0.2226 - accuracy: 0.9171 - val_loss: 0.6139 - val_accuracy: 0.8089\n",
      "Epoch 40/50\n",
      "138/138 [==============================] - 4s 27ms/step - loss: 0.2097 - accuracy: 0.9210 - val_loss: 0.5717 - val_accuracy: 0.8152\n",
      "Epoch 41/50\n",
      "138/138 [==============================] - 4s 28ms/step - loss: 0.2072 - accuracy: 0.9205 - val_loss: 0.5579 - val_accuracy: 0.8315\n",
      "Epoch 42/50\n",
      "138/138 [==============================] - 4s 26ms/step - loss: 0.1879 - accuracy: 0.9280 - val_loss: 0.5963 - val_accuracy: 0.8207\n",
      "Epoch 43/50\n",
      "138/138 [==============================] - 4s 28ms/step - loss: 0.1986 - accuracy: 0.9262 - val_loss: 0.5905 - val_accuracy: 0.8279\n",
      "Epoch 44/50\n",
      "138/138 [==============================] - 4s 27ms/step - loss: 0.1929 - accuracy: 0.9253 - val_loss: 0.6274 - val_accuracy: 0.8161\n",
      "Epoch 45/50\n",
      "138/138 [==============================] - 4s 26ms/step - loss: 0.1883 - accuracy: 0.9345 - val_loss: 0.6340 - val_accuracy: 0.8080\n",
      "Epoch 46/50\n",
      "138/138 [==============================] - 4s 28ms/step - loss: 0.1686 - accuracy: 0.9366 - val_loss: 0.6256 - val_accuracy: 0.8197\n",
      "Epoch 47/50\n",
      "138/138 [==============================] - 4s 28ms/step - loss: 0.1833 - accuracy: 0.9320 - val_loss: 0.6214 - val_accuracy: 0.8252\n",
      "Epoch 48/50\n",
      "138/138 [==============================] - 4s 27ms/step - loss: 0.1766 - accuracy: 0.9339 - val_loss: 0.6292 - val_accuracy: 0.8188\n",
      "Epoch 49/50\n",
      "138/138 [==============================] - 4s 27ms/step - loss: 0.1604 - accuracy: 0.9377 - val_loss: 0.6058 - val_accuracy: 0.8297\n",
      "Epoch 50/50\n",
      "138/138 [==============================] - 4s 28ms/step - loss: 0.1587 - accuracy: 0.9391 - val_loss: 0.6401 - val_accuracy: 0.8252\n"
     ]
    }
   ],
   "source": [
    "#fitting the model\n",
    "history = model.fit(X_train, Y_train, epochs=50, validation_split=0.2)"
   ]
  },
  {
   "cell_type": "markdown",
   "metadata": {},
   "source": [
    "# display the acuuracy and loss "
   ]
  },
  {
   "cell_type": "code",
   "execution_count": 31,
   "metadata": {},
   "outputs": [
    {
     "data": {
      "image/png": "[encoded data removed]",
      "text/plain": [
       "<Figure size 576x576 with 1 Axes>"
      ]
     },
     "metadata": {
      "needs_background": "light"
     },
     "output_type": "display_data"
    }
   ],
   "source": [
    "#Display of the accuracy and the loss values\n",
    "import matplotlib.pyplot as plt\n",
    "\n",
    "plt.figure(figsize = (8,8))\n",
    "plt.plot(history.history['accuracy'], label='training accuracy')\n",
    "plt.plot(history.history['val_accuracy'], label='val accuracy')\n",
    "plt.plot(history.history['loss'], label='training loss')\n",
    "plt.plot(history.history['val_loss'], label='val loss')\n",
    "plt.title('Loss/accuracy')\n",
    "plt.xlabel('epochs')\n",
    "plt.ylabel('loss')\n",
    "plt.legend()\n",
    "plt.show()\n"
   ]
  },
  {
   "cell_type": "markdown",
   "metadata": {},
   "source": [
    "# get prediction on test data"
   ]
  },
  {
   "cell_type": "code",
   "execution_count": 32,
   "metadata": {},
   "outputs": [
    {
     "name": "stdout",
     "output_type": "stream",
     "text": [
      "WARNING:tensorflow:From <ipython-input-32-67856f0c4cd2>:1: Sequential.predict_classes (from tensorflow.python.keras.engine.sequential) is deprecated and will be removed after 2021-01-01.\n",
      "Instructions for updating:\n",
      "Please use instead:* `np.argmax(model.predict(x), axis=-1)`,   if your model does multi-class classification   (e.g. if it uses a `softmax` last-layer activation).* `(model.predict(x) > 0.5).astype(\"int32\")`,   if your model does binary classification   (e.g. if it uses a `sigmoid` last-layer activation).\n"
     ]
    }
   ],
   "source": [
    "Y_pred = model.predict_classes(X_test)"
   ]
  },
  {
   "cell_type": "code",
   "execution_count": 33,
   "metadata": {},
   "outputs": [],
   "source": [
    "#converting over Y test to actual labels.\n",
    "Y_test = np.argmax(Y_test, axis = 1)"
   ]
  },
  {
   "cell_type": "markdown",
   "metadata": {},
   "source": [
    "# print accuracy for test data"
   ]
  },
  {
   "cell_type": "code",
   "execution_count": 34,
   "metadata": {},
   "outputs": [
    {
     "name": "stdout",
     "output_type": "stream",
     "text": [
      "the accuracy obtained on the test set is: 0.836231884057971\n"
     ]
    }
   ],
   "source": [
    "from sklearn.metrics import accuracy_score\n",
    "print('the accuracy obtained on the test set is:', accuracy_score(Y_pred,Y_test))"
   ]
  },
  {
   "cell_type": "markdown",
   "metadata": {},
   "source": [
    "# print classification report"
   ]
  },
  {
   "cell_type": "code",
   "execution_count": 37,
   "metadata": {},
   "outputs": [
    {
     "name": "stdout",
     "output_type": "stream",
     "text": [
      "              precision    recall  f1-score   support\n",
      "\n",
      "           0       0.86      0.97      0.91       151\n",
      "           1       0.91      0.88      0.89       202\n",
      "           2       0.70      0.59      0.64       177\n",
      "           3       0.55      0.60      0.58       144\n",
      "           4       0.75      0.67      0.71       164\n",
      "           5       0.96      1.00      0.98       186\n",
      "           6       0.87      0.94      0.90       147\n",
      "           7       0.98      0.99      0.98       209\n",
      "\n",
      "    accuracy                           0.84      1380\n",
      "   macro avg       0.82      0.83      0.82      1380\n",
      "weighted avg       0.83      0.84      0.83      1380\n",
      "\n"
     ]
    }
   ],
   "source": [
    "from sklearn.metrics import classification_report\n",
    "print(classification_report(Y_test, Y_pred))"
   ]
  },
  {
   "cell_type": "code",
   "execution_count": 36,
   "metadata": {},
   "outputs": [
    {
     "name": "stdout",
     "output_type": "stream",
     "text": [
      "(array([2, 2, 5, ..., 0, 5, 7], dtype=int64), array([2, 1, 5, ..., 0, 5, 7], dtype=int64))\n"
     ]
    }
   ],
   "source": [
    "print((Y_test, Y_pred))"
   ]
  },
  {
   "cell_type": "markdown",
   "metadata": {},
   "source": [
    "# make data frame for train and test data"
   ]
  },
  {
   "cell_type": "code",
   "execution_count": 44,
   "metadata": {},
   "outputs": [],
   "source": [
    "import pandas as pd\n",
    "pred=pd.DataFrame(Y_test,columns=[\"test\"])\n",
    "pred[\"predctions\"]=Y_pred\n"
   ]
  },
  {
   "cell_type": "code",
   "execution_count": 61,
   "metadata": {},
   "outputs": [],
   "source": [
    "# Define a function to map the values \n",
    "def set_value(row_number, assigned_value): \n",
    "    return assigned_value[row_number] "
   ]
  },
  {
   "cell_type": "code",
   "execution_count": null,
   "metadata": {},
   "outputs": [],
   "source": [
    "dictionary ={0 :\"airplane\" , 1 : \"car\", 2 : \"cat\",3:\"dog\",4:\"flower\",5:\"fruit\",6:\"motorbike\",7:\"person\"} "
   ]
  },
  {
   "cell_type": "code",
   "execution_count": 64,
   "metadata": {},
   "outputs": [],
   "source": [
    "pred['original'] = pred['test'].apply(set_value, args =(dictionary, )) \n",
    "pred['Predicated'] = pred['predctions'].apply(set_value, args =(dictionary, )) "
   ]
  },
  {
   "cell_type": "code",
   "execution_count": 65,
   "metadata": {},
   "outputs": [
    {
     "data": {
      "text/html": [
       "<div>\n",
       "<style scoped>\n",
       "    .dataframe tbody tr th:only-of-type {\n",
       "        vertical-align: middle;\n",
       "    }\n",
       "\n",
       "    .dataframe tbody tr th {\n",
       "        vertical-align: top;\n",
       "    }\n",
       "\n",
       "    .dataframe thead th {\n",
       "        text-align: right;\n",
       "    }\n",
       "</style>\n",
       "<table border=\"1\" class=\"dataframe\">\n",
       "  <thead>\n",
       "    <tr style=\"text-align: right;\">\n",
       "      <th></th>\n",
       "      <th>test</th>\n",
       "      <th>predctions</th>\n",
       "      <th>original</th>\n",
       "      <th>Predicated</th>\n",
       "    </tr>\n",
       "  </thead>\n",
       "  <tbody>\n",
       "    <tr>\n",
       "      <th>0</th>\n",
       "      <td>2</td>\n",
       "      <td>2</td>\n",
       "      <td>cat</td>\n",
       "      <td>cat</td>\n",
       "    </tr>\n",
       "    <tr>\n",
       "      <th>1</th>\n",
       "      <td>2</td>\n",
       "      <td>1</td>\n",
       "      <td>cat</td>\n",
       "      <td>car</td>\n",
       "    </tr>\n",
       "    <tr>\n",
       "      <th>2</th>\n",
       "      <td>5</td>\n",
       "      <td>5</td>\n",
       "      <td>fruit</td>\n",
       "      <td>fruit</td>\n",
       "    </tr>\n",
       "    <tr>\n",
       "      <th>3</th>\n",
       "      <td>5</td>\n",
       "      <td>5</td>\n",
       "      <td>fruit</td>\n",
       "      <td>fruit</td>\n",
       "    </tr>\n",
       "    <tr>\n",
       "      <th>4</th>\n",
       "      <td>6</td>\n",
       "      <td>6</td>\n",
       "      <td>motorbike</td>\n",
       "      <td>motorbike</td>\n",
       "    </tr>\n",
       "    <tr>\n",
       "      <th>...</th>\n",
       "      <td>...</td>\n",
       "      <td>...</td>\n",
       "      <td>...</td>\n",
       "      <td>...</td>\n",
       "    </tr>\n",
       "    <tr>\n",
       "      <th>1375</th>\n",
       "      <td>6</td>\n",
       "      <td>6</td>\n",
       "      <td>motorbike</td>\n",
       "      <td>motorbike</td>\n",
       "    </tr>\n",
       "    <tr>\n",
       "      <th>1376</th>\n",
       "      <td>5</td>\n",
       "      <td>5</td>\n",
       "      <td>fruit</td>\n",
       "      <td>fruit</td>\n",
       "    </tr>\n",
       "    <tr>\n",
       "      <th>1377</th>\n",
       "      <td>0</td>\n",
       "      <td>0</td>\n",
       "      <td>airplane</td>\n",
       "      <td>airplane</td>\n",
       "    </tr>\n",
       "    <tr>\n",
       "      <th>1378</th>\n",
       "      <td>5</td>\n",
       "      <td>5</td>\n",
       "      <td>fruit</td>\n",
       "      <td>fruit</td>\n",
       "    </tr>\n",
       "    <tr>\n",
       "      <th>1379</th>\n",
       "      <td>7</td>\n",
       "      <td>7</td>\n",
       "      <td>person</td>\n",
       "      <td>person</td>\n",
       "    </tr>\n",
       "  </tbody>\n",
       "</table>\n",
       "<p>1380 rows × 4 columns</p>\n",
       "</div>"
      ],
      "text/plain": [
       "      test  predctions   original Predicated\n",
       "0        2           2        cat        cat\n",
       "1        2           1        cat        car\n",
       "2        5           5      fruit      fruit\n",
       "3        5           5      fruit      fruit\n",
       "4        6           6  motorbike  motorbike\n",
       "...    ...         ...        ...        ...\n",
       "1375     6           6  motorbike  motorbike\n",
       "1376     5           5      fruit      fruit\n",
       "1377     0           0   airplane   airplane\n",
       "1378     5           5      fruit      fruit\n",
       "1379     7           7     person     person\n",
       "\n",
       "[1380 rows x 4 columns]"
      ]
     },
     "execution_count": 65,
     "metadata": {},
     "output_type": "execute_result"
    }
   ],
   "source": [
    "pred"
   ]
  },
  {
   "cell_type": "code",
   "execution_count": 68,
   "metadata": {},
   "outputs": [],
   "source": [
    "result=pred.iloc[:,[2,3]]"
   ]
  },
  {
   "cell_type": "code",
   "execution_count": 69,
   "metadata": {},
   "outputs": [
    {
     "data": {
      "text/html": [
       "<div>\n",
       "<style scoped>\n",
       "    .dataframe tbody tr th:only-of-type {\n",
       "        vertical-align: middle;\n",
       "    }\n",
       "\n",
       "    .dataframe tbody tr th {\n",
       "        vertical-align: top;\n",
       "    }\n",
       "\n",
       "    .dataframe thead th {\n",
       "        text-align: right;\n",
       "    }\n",
       "</style>\n",
       "<table border=\"1\" class=\"dataframe\">\n",
       "  <thead>\n",
       "    <tr style=\"text-align: right;\">\n",
       "      <th></th>\n",
       "      <th>original</th>\n",
       "      <th>Predicated</th>\n",
       "    </tr>\n",
       "  </thead>\n",
       "  <tbody>\n",
       "    <tr>\n",
       "      <th>1</th>\n",
       "      <td>cat</td>\n",
       "      <td>car</td>\n",
       "    </tr>\n",
       "    <tr>\n",
       "      <th>2</th>\n",
       "      <td>fruit</td>\n",
       "      <td>fruit</td>\n",
       "    </tr>\n",
       "    <tr>\n",
       "      <th>3</th>\n",
       "      <td>fruit</td>\n",
       "      <td>fruit</td>\n",
       "    </tr>\n",
       "    <tr>\n",
       "      <th>4</th>\n",
       "      <td>motorbike</td>\n",
       "      <td>motorbike</td>\n",
       "    </tr>\n",
       "    <tr>\n",
       "      <th>5</th>\n",
       "      <td>airplane</td>\n",
       "      <td>airplane</td>\n",
       "    </tr>\n",
       "    <tr>\n",
       "      <th>6</th>\n",
       "      <td>motorbike</td>\n",
       "      <td>motorbike</td>\n",
       "    </tr>\n",
       "    <tr>\n",
       "      <th>7</th>\n",
       "      <td>person</td>\n",
       "      <td>person</td>\n",
       "    </tr>\n",
       "    <tr>\n",
       "      <th>8</th>\n",
       "      <td>fruit</td>\n",
       "      <td>fruit</td>\n",
       "    </tr>\n",
       "    <tr>\n",
       "      <th>9</th>\n",
       "      <td>flower</td>\n",
       "      <td>cat</td>\n",
       "    </tr>\n",
       "    <tr>\n",
       "      <th>10</th>\n",
       "      <td>flower</td>\n",
       "      <td>flower</td>\n",
       "    </tr>\n",
       "    <tr>\n",
       "      <th>11</th>\n",
       "      <td>car</td>\n",
       "      <td>airplane</td>\n",
       "    </tr>\n",
       "    <tr>\n",
       "      <th>12</th>\n",
       "      <td>car</td>\n",
       "      <td>car</td>\n",
       "    </tr>\n",
       "    <tr>\n",
       "      <th>13</th>\n",
       "      <td>fruit</td>\n",
       "      <td>fruit</td>\n",
       "    </tr>\n",
       "    <tr>\n",
       "      <th>14</th>\n",
       "      <td>dog</td>\n",
       "      <td>dog</td>\n",
       "    </tr>\n",
       "    <tr>\n",
       "      <th>15</th>\n",
       "      <td>flower</td>\n",
       "      <td>flower</td>\n",
       "    </tr>\n",
       "    <tr>\n",
       "      <th>16</th>\n",
       "      <td>car</td>\n",
       "      <td>airplane</td>\n",
       "    </tr>\n",
       "    <tr>\n",
       "      <th>17</th>\n",
       "      <td>person</td>\n",
       "      <td>person</td>\n",
       "    </tr>\n",
       "    <tr>\n",
       "      <th>18</th>\n",
       "      <td>car</td>\n",
       "      <td>car</td>\n",
       "    </tr>\n",
       "    <tr>\n",
       "      <th>19</th>\n",
       "      <td>car</td>\n",
       "      <td>car</td>\n",
       "    </tr>\n",
       "  </tbody>\n",
       "</table>\n",
       "</div>"
      ],
      "text/plain": [
       "     original Predicated\n",
       "1         cat        car\n",
       "2       fruit      fruit\n",
       "3       fruit      fruit\n",
       "4   motorbike  motorbike\n",
       "5    airplane   airplane\n",
       "6   motorbike  motorbike\n",
       "7      person     person\n",
       "8       fruit      fruit\n",
       "9      flower        cat\n",
       "10     flower     flower\n",
       "11        car   airplane\n",
       "12        car        car\n",
       "13      fruit      fruit\n",
       "14        dog        dog\n",
       "15     flower     flower\n",
       "16        car   airplane\n",
       "17     person     person\n",
       "18        car        car\n",
       "19        car        car"
      ]
     },
     "execution_count": 69,
     "metadata": {},
     "output_type": "execute_result"
    }
   ],
   "source": [
    "result[1:20]"
   ]
  },
  {
   "cell_type": "markdown",
   "metadata": {},
   "source": [
    "# save the model"
   ]
  },
  {
   "cell_type": "code",
   "execution_count": 73,
   "metadata": {},
   "outputs": [],
   "source": [
    "model.save('model_cnn.h5')"
   ]
  },
  {
   "cell_type": "code",
   "execution_count": null,
   "metadata": {},
   "outputs": [],
   "source": []
  }
 ],
 "metadata": {
  "kernelspec": {
   "display_name": "Python 3",
   "language": "python",
   "name": "python3"
  },
  "language_info": {
   "codemirror_mode": {
    "name": "ipython",
    "version": 3
   },
   "file_extension": ".py",
   "mimetype": "text/x-python",
   "name": "python",
   "nbconvert_exporter": "python",
   "pygments_lexer": "ipython3",
   "version": "3.8.3"
  }
 },
 "nbformat": 4,
 "nbformat_minor": 4
}
